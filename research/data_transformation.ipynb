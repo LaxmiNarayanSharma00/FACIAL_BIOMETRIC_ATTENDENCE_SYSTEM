{
 "cells": [
  {
   "cell_type": "code",
   "execution_count": 10,
   "metadata": {},
   "outputs": [],
   "source": [
    "from dataclasses import dataclass\n",
    "from pathlib import Path\n",
    "\n",
    "@dataclass\n",
    "class Datatransformation_config:\n",
    "    root_dir: Path\n",
    "    data_path: Path"
   ]
  },
  {
   "cell_type": "code",
   "execution_count": 11,
   "metadata": {},
   "outputs": [],
   "source": [
    "import os\n",
    "# os.chdir('../')"
   ]
  },
  {
   "cell_type": "code",
   "execution_count": 12,
   "metadata": {},
   "outputs": [],
   "source": [
    "from src.datascience.constants import *\n",
    "from src.datascience.utils.common import read_yml,create_directories\n",
    "class data_transformation_ConfigManager:\n",
    "    def __init__(self,config_file_path=CONFIG_FILE_PATH,params_file_path=PARAMS_FILE_PATH,SCHEMA_FILE_PATH=SCHEMA_FILE_PATH):\n",
    "        self.config=read_yml(config_file_path)\n",
    "        self.params=read_yml(params_file_path)\n",
    "        self.schema=read_yml(SCHEMA_FILE_PATH)\n",
    "\n",
    "        create_directories([self.config.artifacts_roots])\n",
    "\n",
    "    def get_data_transformation_config(self)-> Datatransformation_config:\n",
    "        config=self.config.data_transformation\n",
    "        \n",
    "        create_directories([config.root_dir])\n",
    "\n",
    "        data_validation_config=Datatransformation_config(\n",
    "                root_dir=config.root_dir,\n",
    "                data_path=config.data_path\n",
    "        )\n",
    "\n",
    "        return data_validation_config\n",
    "\n",
    "\n",
    "        "
   ]
  },
  {
   "cell_type": "code",
   "execution_count": 13,
   "metadata": {},
   "outputs": [],
   "source": [
    "import pandas as pd\n",
    "import os\n",
    "from src.datascience import logger\n",
    "from sklearn.model_selection import train_test_split\n",
    "\n",
    "class Datatransformation:\n",
    "    def __init__(self,config:Datatransformation_config):\n",
    "        self.config=config\n",
    "\n",
    "    def perform_train_test_split(self):\n",
    "        data=pd.read_csv(self.config.data_path)\n",
    "        train,test=train_test_split(data)\n",
    "        \n",
    "        train.to_csv(os.path.join(self.config.root_dir,'train.csv'),index=False)\n",
    "        test.to_csv(os.path.join(self.config.root_dir,'test.csv'),index=False)\n",
    "\n",
    "        logger.info(f'splitting the data into train and test and data saved in directory {self.config.root_dir}')\n",
    "        logger.info(train.shape)\n",
    "        logger.info(test.shape)\n",
    "\n",
    "\n"
   ]
  },
  {
   "cell_type": "code",
   "execution_count": 14,
   "metadata": {},
   "outputs": [
    {
     "name": "stdout",
     "output_type": "stream",
     "text": [
      "[2025-02-01 16:44:12,302: INFO: common: yaml file config\\config.yaml loaded succesfully]\n",
      "[2025-02-01 16:44:12,303: INFO: common: yaml file params.yaml loaded succesfully]\n",
      "[2025-02-01 16:44:12,309: INFO: common: yaml file schema.yaml loaded succesfully]\n",
      "[2025-02-01 16:44:12,309: INFO: common: created directory at path artifacts]\n",
      "[2025-02-01 16:44:12,309: INFO: common: created directory at path artifacts/data_transformation]\n",
      "[2025-02-01 16:44:12,378: INFO: 424176108: splitting the data into train and test and data saved in directory artifacts/data_transformation]\n",
      "[2025-02-01 16:44:12,382: INFO: 424176108: (1199, 12)]\n",
      "[2025-02-01 16:44:12,382: INFO: 424176108: (400, 12)]\n"
     ]
    }
   ],
   "source": [
    "try: \n",
    "    \n",
    "    confif_manager=data_transformation_ConfigManager()\n",
    "    config=confif_manager.get_data_transformation_config()\n",
    "    data_transformation=Datatransformation(config)    \n",
    "    data_transformation.perform_train_test_split()\n",
    "except Exception as e:\n",
    "    raise e\n",
    "\n",
    "    "
   ]
  }
 ],
 "metadata": {
  "kernelspec": {
   "display_name": "venv",
   "language": "python",
   "name": "python3"
  },
  "language_info": {
   "codemirror_mode": {
    "name": "ipython",
    "version": 3
   },
   "file_extension": ".py",
   "mimetype": "text/x-python",
   "name": "python",
   "nbconvert_exporter": "python",
   "pygments_lexer": "ipython3",
   "version": "3.12.0"
  }
 },
 "nbformat": 4,
 "nbformat_minor": 2
}
