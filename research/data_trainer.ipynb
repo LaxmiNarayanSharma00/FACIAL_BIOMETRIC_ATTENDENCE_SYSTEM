{
 "cells": [
  {
   "cell_type": "code",
   "execution_count": 40,
   "metadata": {},
   "outputs": [
    {
     "data": {
      "text/plain": [
       "'c:\\\\Users\\\\LENOVO\\\\OneDrive\\\\Desktop\\\\complete_end_to_end_project'"
      ]
     },
     "execution_count": 40,
     "metadata": {},
     "output_type": "execute_result"
    }
   ],
   "source": [
    "import os\n",
    "# os.chdir('../')\n",
    "%pwd"
   ]
  },
  {
   "cell_type": "code",
   "execution_count": 41,
   "metadata": {},
   "outputs": [],
   "source": [
    "from dataclasses import dataclass\n",
    "from pathlib import Path\n",
    "@dataclass\n",
    "class Datatrainer_config:\n",
    "    root_dir: Path\n",
    "    train_data: Path\n",
    "    test_data: Path\n",
    "    model_name: str\n",
    "    alpha: float\n",
    "    l1_ratio: float\n",
    "    target_col: str"
   ]
  },
  {
   "cell_type": "code",
   "execution_count": 42,
   "metadata": {},
   "outputs": [],
   "source": [
    "from src.datascience.constants import *\n",
    "from src.datascience.utils.common import read_yml,create_directories\n",
    "\n",
    "class Data_trainer_config_manger:\n",
    "    def __init__(self,config_file_path=CONFIG_FILE_PATH,params_file_path=PARAMS_FILE_PATH,schema_file_path=SCHEMA_FILE_PATH):\n",
    "        self.config=read_yml(config_file_path)\n",
    "        self.schema=read_yml(schema_file_path)\n",
    "        self.params=read_yml(params_file_path)\n",
    "\n",
    "        create_directories([self.config.artifacts_roots])\n",
    "\n",
    "    def get_data_trainer_config(self)->Datatrainer_config:\n",
    "        config=self.config.data_trainer\n",
    "        schema_col=self.schema.TARGET_COLUMNS\n",
    "        params=self.params.ELASTIC_NET\n",
    "        create_directories([config.root_dir])\n",
    "\n",
    "        data_trainer_config=Datatrainer_config(\n",
    "                root_dir=config.root_dir ,\n",
    "                train_data= config.train_path,\n",
    "                test_data= config.test_path,\n",
    "                model_name= config.model_name,\n",
    "                alpha=params.l1_ratio,\n",
    "                l1_ratio=params.alpha,\n",
    "                target_col=schema_col.NAME          \n",
    "        )   \n",
    "\n",
    "        return data_trainer_config\n",
    "\n",
    "\n",
    "\n",
    "        "
   ]
  },
  {
   "cell_type": "code",
   "execution_count": 43,
   "metadata": {},
   "outputs": [],
   "source": [
    "import pandas as pd\n",
    "import os\n",
    "from src.datascience import logger\n",
    "from sklearn.linear_model import ElasticNet\n",
    "import joblib\n",
    "\n",
    "class Data_trainer:\n",
    "    def __init__(self,config:Datatrainer_config):\n",
    "        self.config=config\n",
    "\n",
    "    def model_training(self):\n",
    "        train_data=pd.read_csv(self.config.train_data)\n",
    "        test_data=pd.read_csv(self.config.test_data)\n",
    "\n",
    "        x_train=train_data.drop(columns=self.config.target_col)\n",
    "        x_test=test_data.drop(columns=self.config.target_col)\n",
    "\n",
    "        y_train=train_data[[self.config.target_col]]\n",
    "        y_test=test_data[[self.config.target_col]]\n",
    "\n",
    "        model=ElasticNet(l1_ratio=self.config.l1_ratio,alpha=self.config.alpha,random_state=42)\n",
    "        model.fit(x_train,y_train)\n",
    "\n",
    "        joblib.dump(model,os.path.join(self.config.root_dir,self.config.model_name))\n",
    "\n",
    "\n",
    "        \n"
   ]
  },
  {
   "cell_type": "code",
   "execution_count": 44,
   "metadata": {},
   "outputs": [
    {
     "name": "stdout",
     "output_type": "stream",
     "text": [
      "[2025-02-01 22:57:42,420: INFO: common: yaml file config\\config.yaml loaded succesfully]\n",
      "[2025-02-01 22:57:42,427: INFO: common: yaml file schema.yaml loaded succesfully]\n",
      "[2025-02-01 22:57:42,431: INFO: common: yaml file params.yaml loaded succesfully]\n",
      "[2025-02-01 22:57:42,433: INFO: common: created directory at path artifacts]\n",
      "[2025-02-01 22:57:42,434: INFO: common: created directory at path artifacts/data_trainer]\n"
     ]
    }
   ],
   "source": [
    "try: \n",
    "    \n",
    "    confif_manager=Data_trainer_config_manger()\n",
    "    config=confif_manager.get_data_trainer_config()\n",
    "    data_transformation=Data_trainer(config)    \n",
    "    data_transformation.model_training()\n",
    "except Exception as e:\n",
    "    raise e\n"
   ]
  },
  {
   "cell_type": "code",
   "execution_count": null,
   "metadata": {},
   "outputs": [],
   "source": []
  }
 ],
 "metadata": {
  "kernelspec": {
   "display_name": "venv",
   "language": "python",
   "name": "python3"
  },
  "language_info": {
   "codemirror_mode": {
    "name": "ipython",
    "version": 3
   },
   "file_extension": ".py",
   "mimetype": "text/x-python",
   "name": "python",
   "nbconvert_exporter": "python",
   "pygments_lexer": "ipython3",
   "version": "3.12.0"
  }
 },
 "nbformat": 4,
 "nbformat_minor": 2
}
