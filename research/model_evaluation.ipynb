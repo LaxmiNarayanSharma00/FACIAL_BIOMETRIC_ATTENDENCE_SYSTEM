{
 "cells": [
  {
   "cell_type": "code",
   "execution_count": 1,
   "metadata": {},
   "outputs": [],
   "source": [
    "import os\n",
    "os.environ['MLFLOW_TRACKING_URI']='https://dagshub.com/researchanalystforapurpose/FACIAL_BIOMETRIC_ATTENDENCE_SYSTEM.mlflow'\n",
    "os.environ['MLFLOW_TRACKIN_USER_NAME']='researchanalystforapurpose'\n",
    "os.environ['MLFLOW_TRACKING_PASSWORD']='8e0daaa2b9f63126713e4d435ab226f1e1a19c0c '\n",
    "# os.environ[\"HTTP_PROXY\"] = \"http://172.31.2.4:8080\"\n",
    "# os.environ[\"HTTPS_PROXY\"] = \"http://172.31.2.4:8080\"\n",
    "os.environ[\"NO_PROXY\"] = \"https://dagshub.com/researchanalystforapurpose/FACIAL_BIOMETRIC_ATTENDENCE_SYSTEM.mlflow\""
   ]
  },
  {
   "cell_type": "code",
   "execution_count": 2,
   "metadata": {},
   "outputs": [
    {
     "data": {
      "text/plain": [
       "'c:\\\\Users\\\\LENOVO\\\\OneDrive\\\\Desktop\\\\complete_end_to_end_project'"
      ]
     },
     "execution_count": 2,
     "metadata": {},
     "output_type": "execute_result"
    }
   ],
   "source": [
    "os.chdir('../')\n",
    "%pwd\n"
   ]
  },
  {
   "cell_type": "code",
   "execution_count": 3,
   "metadata": {},
   "outputs": [],
   "source": [
    "from dataclasses import dataclass\n",
    "from pathlib import Path\n",
    "\n",
    "@dataclass\n",
    "class model_evaluation_config:\n",
    "    root_dir: Path\n",
    "    test_data_path: Path\n",
    "    model_path: Path\n",
    "    metric_file_path: Path\n",
    "    all_params: dict\n",
    "    target_column: str\n",
    "    mlflow_uri: str\n",
    "    "
   ]
  },
  {
   "cell_type": "code",
   "execution_count": 4,
   "metadata": {},
   "outputs": [],
   "source": [
    "from src.datascience.constants import *\n",
    "from src.datascience.utils.common import read_yml,save_json,create_directories\n",
    "\n",
    "class model_evaluation_config_manger:\n",
    "    def __init__(self,config_file_path=CONFIG_FILE_PATH,params_file_path=PARAMS_FILE_PATH,schema_file_path=SCHEMA_FILE_PATH):\n",
    "        self.config=read_yml(config_file_path)\n",
    "        self.schema=read_yml(schema_file_path)\n",
    "        self.params=read_yml(params_file_path)\n",
    "\n",
    "        create_directories([self.config.artifacts_roots])\n",
    "\n",
    "    def get_model_evaluation_config(self)->model_evaluation_config:\n",
    "        config=self.config.model_evaluation\n",
    "        params=self.params.ELASTIC_NET\n",
    "        schema=self.schema.TARGET_COLUMNS\n",
    "        create_directories([config.root_dir])\n",
    "\n",
    "        evaluation_config=model_evaluation_config(\n",
    "            root_dir=config.root_dir,\n",
    "            test_data_path=config.test_data_path,\n",
    "            model_path=config.model_path,\n",
    "            metric_file_path=config.metric_file_path,\n",
    "            all_params=params,\n",
    "            mlflow_uri=config.mlflow_uri,\n",
    "            target_column=schema.NAME\n",
    "        )\n",
    "\n",
    "        return evaluation_config\n",
    "        "
   ]
  },
  {
   "cell_type": "code",
   "execution_count": 5,
   "metadata": {},
   "outputs": [],
   "source": [
    "import pandas as pd\n",
    "import numpy as np\n",
    "import mlflow\n",
    "from sklearn.metrics import r2_score,mean_absolute_error,mean_squared_error\n",
    "import joblib\n",
    "from urllib.parse import urlparse\n",
    "\n",
    "\n",
    "class model_evaluation:\n",
    "    def __init__(self,config=model_evaluation_config):\n",
    "        self.config=config\n",
    "\n",
    "    def eval_metrcis(self,actual,pred):\n",
    "        r2_score=r2_score(actual,pred)\n",
    "        mae=mean_absolute_error(actual,pred)\n",
    "        root_mean_squared_error=np.sqrt(mean_squared_error(actual,pred))\n",
    "\n",
    "        return r2_score,mae,root_mean_squared_error    \n",
    "    \n",
    "    def log_into_mlflow(self):\n",
    "        test_data=pd.read_csv(self.config.test_data_path)\n",
    "\n",
    "        model=joblib.load(self.config.model_path)\n",
    "        # print(test_data.shape)\n",
    "        test_x=test_data.drop(columns=self.config.target_column)\n",
    "        \n",
    "        test_y=test_data[[self.config.target_column]]\n",
    "        \n",
    "        mlflow.set_tracking_uri(self.config.mlflow_uri)\n",
    "        tracking_url_type_store=urlparse(mlflow.get_tracking_uri()).scheme\n",
    "        mlflow.set_experiment(\"your_experiment_name\")\n",
    "        print('tilll')\n",
    "        with mlflow.start_run():\n",
    "            pred=model.predict(test_x)\n",
    "            (r2_score,mae,rmse)=self.eval_metrcis(test_y,pred)\n",
    "            print('her')\n",
    "            scores={'rmse':rmse,'mae':mae,'r2_score':r2_score}\n",
    "            save_json(Path=Path(self.config.metric_file_path),data=scores)\n",
    "\n",
    "            mlflow.log_params(self.config.all_params)\n",
    "            mlflow.log_metric('rmse',rmse)\n",
    "            mlflow.log_metric('r2_score',r2_score)\n",
    "            mlflow.log_metric('mae',mae)\n",
    "            print('hello')\n",
    "\n",
    "            if tracking_url_type_store!= 'file':\n",
    "                mlflow.sklearn.log_model(model,'model',registered_model_name='ELASTIC_NET')\n",
    "\n",
    "            else:\n",
    "                mlflow.sklearn.log_model(model,'model')    "
   ]
  },
  {
   "cell_type": "code",
   "execution_count": null,
   "metadata": {},
   "outputs": [
    {
     "name": "stdout",
     "output_type": "stream",
     "text": [
      "[2025-02-02 02:42:01,935: INFO: common: yaml file config\\config.yaml loaded succesfully]\n",
      "[2025-02-02 02:42:01,961: INFO: common: yaml file schema.yaml loaded succesfully]\n",
      "[2025-02-02 02:42:01,966: INFO: common: yaml file params.yaml loaded succesfully]\n",
      "[2025-02-02 02:42:01,968: INFO: common: created directory at path artifacts]\n",
      "[2025-02-02 02:42:01,968: INFO: common: created directory at path artifacts/model_evaluation]\n"
     ]
    }
   ],
   "source": [
    "try: \n",
    "    \n",
    "    confif_manager=model_evaluation_config_manger()\n",
    "    config=confif_manager.get_model_evaluation_config()\n",
    "    model_evaluation=model_evaluation(config)    \n",
    "    model_evaluation.log_into_mlflow()\n",
    "except Exception as e:\n",
    "    raise e\n"
   ]
  }
 ],
 "metadata": {
  "kernelspec": {
   "display_name": "venv",
   "language": "python",
   "name": "python3"
  },
  "language_info": {
   "codemirror_mode": {
    "name": "ipython",
    "version": 3
   },
   "file_extension": ".py",
   "mimetype": "text/x-python",
   "name": "python",
   "nbconvert_exporter": "python",
   "pygments_lexer": "ipython3",
   "version": "3.12.0"
  }
 },
 "nbformat": 4,
 "nbformat_minor": 2
}
